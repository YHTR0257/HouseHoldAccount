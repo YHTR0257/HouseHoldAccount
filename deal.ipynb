{
 "cells": [
  {
   "cell_type": "markdown",
   "metadata": {},
   "source": [
    "# CSVファイルの読み込みを行う"
   ]
  },
  {
   "cell_type": "markdown",
   "metadata": {},
   "source": [
    "移植成功"
   ]
  },
  {
   "cell_type": "code",
   "execution_count": 1,
   "metadata": {},
   "outputs": [
    {
     "name": "stdout",
     "output_type": "stream",
     "text": [
      "Error: ID '260' not found in JSON.\n",
      "Error: ID '270' not found in JSON.\n",
      "Error: ID '260' not found in JSON.\n",
      "Error: ID '270' not found in JSON.\n",
      "Error: ID '260' not found in JSON.\n",
      "Error: ID '270' not found in JSON.\n",
      "          Date           ID  SubjectCode  Amount        Remarks  \\\n",
      "197 2024-04-01   2024041099          130   -1770  Carry Over 99   \n",
      "196 2024-04-01   2024041199          111   20000  Carry Over 99   \n",
      "198 2024-04-03   2024043001          101   -2000      PayPay 01   \n",
      "199 2024-04-03   2024043101          500    2000      PayPay 01   \n",
      "200 2024-04-06   2024046001          100    -775        Thigh01   \n",
      "..         ...          ...          ...     ...            ...   \n",
      "407 2024-06-05  20240605102          530     900     Suishun 02   \n",
      "412 2024-06-06  20240606002          101   -1299      Amazon 02   \n",
      "411 2024-06-06  20240606102          513    1299      Amazon 02   \n",
      "414 2024-06-08  20240608001          100   -1000          Gym01   \n",
      "413 2024-06-08  20240608101          580    1000          Gym01   \n",
      "\n",
      "             Subject  Year  Month  \n",
      "197       Borrowings  2024      4  \n",
      "196    SBIStocksNISA  2024      4  \n",
      "198              UFJ  2024      4  \n",
      "199        Groceries  2024      4  \n",
      "200             Cash  2024      4  \n",
      "..               ...   ...    ...  \n",
      "407    Entertainment  2024      6  \n",
      "412              UFJ  2024      6  \n",
      "411  Household Goods  2024      6  \n",
      "414             Cash  2024      6  \n",
      "413  Self-Investment  2024      6  \n",
      "\n",
      "[340 rows x 8 columns]\n"
     ]
    }
   ],
   "source": [
    "import pandas as pd\n",
    "import datetime as dt\n",
    "import numpy as np\n",
    "import json\n",
    "\n",
    "class CSVProcessor:\n",
    "    def __init__(self, input_file, output_file):\n",
    "        self.input_file = input_file\n",
    "        self.output_file = output_file\n",
    "\n",
    "    def generate_id(self,datas):\n",
    "        datas['ID']=datas.apply(lambda row:self.generate_single_id(row['Date'],row['Amount'],row.get('ID'),row['remark']),axis=1)\n",
    "\n",
    "    def generate_single_id(self, date:str ,amount:int,remark, existing_id:int=None)->int:\n",
    "        \"\"\"\n",
    "        Generate a unique ID based on the date and amount.\n",
    "\n",
    "        Args:\n",
    "            date (str): The date of the transaction in \"YYYY-MM-DD\" format.\n",
    "            amount (float): The amount of the transaction.\n",
    "            existing_id (int, optional): An existing ID. If specified, returns this ID.\n",
    "\n",
    "        Returns:\n",
    "            int: The generated ID.\n",
    "        \"\"\"\n",
    "        if np.isnan(existing_id)or existing_id is None:\n",
    "            date_str = str(date)\n",
    "            date_part = date_str.replace(\"-\",\"\")\n",
    "            sign = \"1\" if float(amount) >= 0 else \"0\"\n",
    "            remark_suffix = remark[-2:] if len(remark) >= 2 else remark\n",
    "            # IDを生成し、Remarkの後ろ2文字を連結\n",
    "            generated_id = f\"{date_part}{sign}{remark_suffix}\"\n",
    "            return int(generated_id)\n",
    "        else:\n",
    "            return int(existing_id)\n",
    "\n",
    "\n",
    "\n",
    "    def fill_remarks(self):\n",
    "        \"\"\"\n",
    "        備考欄を埋める\n",
    "        \"\"\"\n",
    "        pass\n",
    "\n",
    "    def sort_csv(self,datas):\n",
    "        \"\"\"\n",
    "        CSVファイルをIDでソートする\n",
    "        \"\"\"\n",
    "        datas_sorted = datas.sort_values(by='ID')\n",
    "        return datas_sorted\n",
    "\n",
    "    def add_yearmonth_column(self,datas):\n",
    "        \"\"\"\n",
    "        日付列から年月を抽出して新しい列を追加する\n",
    "        \"\"\"\n",
    "        datas['Date']=pd.to_datetime(datas['Date'])\n",
    "        datas['Year']=datas['Date'].dt.year\n",
    "        datas['Month']=datas['Date'].dt.month\n",
    "        return datas\n",
    "\n",
    "    def find_by_id(self,file_path, search_id):\n",
    "        search_id=str(search_id)\n",
    "        try:\n",
    "            # JSONファイルを読み込む\n",
    "            with open(file_path, 'r', encoding='utf-8') as f:\n",
    "                data = json.load(f)\n",
    "        except FileNotFoundError:\n",
    "            print(f\"Error: File '{file_path}' not found.\")\n",
    "            return None\n",
    "        except json.JSONDecodeError:\n",
    "            print(f\"Error: File '{file_path}' is not a valid JSON.\")\n",
    "            return None\n",
    "\n",
    "        # 指定されたidを持つ要素を検索する\n",
    "        for key, value in data.items():\n",
    "            # valueが辞書であり、'id'キーが存在するかどうかを確認\n",
    "            if isinstance(value, dict) and 'id' in value:\n",
    "                if value['id'] == search_id:\n",
    "                    return key\n",
    "\n",
    "        print(f\"Error: ID '{search_id}' not found in JSON.\")\n",
    "        return None\n",
    "\n",
    "    def process_csv(self):\n",
    "        \"\"\"\n",
    "        CSVファイルの処理を行う\n",
    "        \"\"\"\n",
    "        datas = pd.read_csv(self.input_file)\n",
    "\n",
    "        # IDを生成する\n",
    "        datas[\"ID\"] = datas.apply(lambda data:self.generate_single_id(data[\"Date\"],data[\"Amount\"],data['Remarks'],data.get(\"ID\")),axis=1)\n",
    "        file_path = 'codes.json'  # JSONファイルのパス\n",
    "        datas['Subject'] = datas.apply(lambda data:self.find_by_id(file_path, data['SubjectCode']),axis=1)\n",
    "\n",
    "        # CSVファイルをIDでソートする\n",
    "        datas = self.sort_csv(datas)\n",
    "\n",
    "        # 日付列から月を抽出して新しい列を追加する\n",
    "        datas = self.add_yearmonth_column(datas)\n",
    "        # JSONから科目を引用する\n",
    "\n",
    "        datas = datas.drop_duplicates(subset='ID',keep='first')\n",
    "\n",
    "        print(datas)\n",
    "\n",
    "        # 処理されたデータを新しいCSVファイルに保存する\n",
    "        datas.to_csv(self.output_file, index=False)\n",
    "\n",
    "# オブジェクトの作成と処理の実行\n",
    "\n",
    "csv_file_name = 'datas/financial_records.csv'\n",
    "datas = pd.read_csv(csv_file_name)\n",
    "processor = CSVProcessor(csv_file_name, 'datas/financial_records_modified.csv')\n",
    "processor.process_csv()\n"
   ]
  },
  {
   "cell_type": "markdown",
   "metadata": {},
   "source": [
    "### For test\n",
    "some method"
   ]
  },
  {
   "cell_type": "code",
   "execution_count": 9,
   "metadata": {},
   "outputs": [
    {
     "name": "stdout",
     "output_type": "stream",
     "text": [
      "         Date           ID  SubjectCode  Amount       Remarks  \\\n",
      "0  2024-03-03  20240303001          200   -2000  Starbucks 01   \n",
      "2  2024-03-03  20240303002          101   -2145    Tempura 02   \n",
      "4  2024-03-03  20240303003          101   -2896       Plug 03   \n",
      "1  2024-03-03  20240303101          500    2000  Starbucks 01   \n",
      "3  2024-03-03  20240303102          531    2145    Tempura 02   \n",
      "..        ...          ...          ...     ...           ...   \n",
      "50 2024-04-16  20240416002          101   -3000     PayPay 02   \n",
      "52 2024-04-16  20240416003          101   -3100      salon 03   \n",
      "49 2024-04-16  20240416101          531    1410   yakiniku 01   \n",
      "51 2024-04-16  20240416102          531    3000     PayPay 02   \n",
      "53 2024-04-16  20240416103          542    3100      salon 03   \n",
      "\n",
      "             Subject  Year  Month  \n",
      "0   Credit Card Debt  2024      3  \n",
      "2                UFJ  2024      3  \n",
      "4                UFJ  2024      3  \n",
      "1          Groceries  2024      3  \n",
      "3         Dining Out  2024      3  \n",
      "..               ...   ...    ...  \n",
      "50               UFJ  2024      4  \n",
      "52               UFJ  2024      4  \n",
      "49        Dining Out  2024      4  \n",
      "51        Dining Out  2024      4  \n",
      "53          Clothing  2024      4  \n",
      "\n",
      "[86 rows x 8 columns]\n"
     ]
    }
   ],
   "source": [
    "csv_file_path = 'datas/test.csv'\n",
    "processor = CSVProcessor(csv_file_path, 'datas/test_modified.csv')\n",
    "processor.process_csv()"
   ]
  },
  {
   "cell_type": "markdown",
   "metadata": {},
   "source": [
    "各項目で合計が一致しない時にエラーを吐くメソッド //\n",
    "1. IDの最後のケタだけを除いてAmountを合計する\n",
    "2. ０でないときにそのIDを出力する \n",
    "3. 先にチェックしてからOKならそのまま変換していく\n",
    "4. ダメならExitする"
   ]
  },
  {
   "cell_type": "code",
   "execution_count": null,
   "metadata": {},
   "outputs": [],
   "source": [
    "def check_sum():\n",
    "\n",
    "    return allow"
   ]
  },
  {
   "cell_type": "markdown",
   "metadata": {},
   "source": [
    "繰り越し作業\n"
   ]
  },
  {
   "cell_type": "markdown",
   "metadata": {},
   "source": [
    "月、年を表す列を追加する"
   ]
  },
  {
   "cell_type": "code",
   "execution_count": 52,
   "metadata": {},
   "outputs": [
    {
     "name": "stdout",
     "output_type": "stream",
     "text": [
      "Found entry: Cash\n"
     ]
    }
   ],
   "source": [
    "import json\n",
    "\n",
    "def find_by_id(file_path, search_id):\n",
    "    try:\n",
    "        # JSONファイルを読み込む\n",
    "        with open(file_path, 'r', encoding='utf-8') as f:\n",
    "            data = json.load(f)\n",
    "    except FileNotFoundError:\n",
    "        print(f\"Error: File '{file_path}' not found.\")\n",
    "        return None\n",
    "    except json.JSONDecodeError:\n",
    "        print(f\"Error: File '{file_path}' is not a valid JSON.\")\n",
    "        return None\n",
    "\n",
    "    # 指定されたidを持つ要素を検索する\n",
    "    for key, value in data.items():\n",
    "        # valueが辞書であり、'id'キーが存在するかどうかを確認\n",
    "        if isinstance(value, dict) and 'id' in value:\n",
    "            if value['id'] == search_id:\n",
    "                return key\n",
    "\n",
    "    print(f\"Error: ID '{search_id}' not found in JSON.\")\n",
    "    return None\n",
    "\n",
    "# 使用例\n",
    "file_path = 'codes.json'  # JSONファイルのパス\n",
    "search_id = '100'  # 検索するID\n",
    "\n",
    "result = find_by_id(file_path, search_id)\n",
    "\n",
    "if result:\n",
    "    print(f\"Found entry: {result}\")\n",
    "else:\n",
    "    print(\"No entry found with the specified ID.\")"
   ]
  },
  {
   "cell_type": "code",
   "execution_count": 9,
   "metadata": {},
   "outputs": [
    {
     "ename": "KeyError",
     "evalue": "'Subject Code'",
     "output_type": "error",
     "traceback": [
      "\u001b[1;31m---------------------------------------------------------------------------\u001b[0m",
      "\u001b[1;31mKeyError\u001b[0m                                  Traceback (most recent call last)",
      "\u001b[1;32mc:\\Users\\grand\\anaconda3\\lib\\site-packages\\pandas\\core\\indexes\\base.py\u001b[0m in \u001b[0;36mget_loc\u001b[1;34m(self, key, method, tolerance)\u001b[0m\n\u001b[0;32m   3079\u001b[0m             \u001b[1;32mtry\u001b[0m\u001b[1;33m:\u001b[0m\u001b[1;33m\u001b[0m\u001b[1;33m\u001b[0m\u001b[0m\n\u001b[1;32m-> 3080\u001b[1;33m                 \u001b[1;32mreturn\u001b[0m \u001b[0mself\u001b[0m\u001b[1;33m.\u001b[0m\u001b[0m_engine\u001b[0m\u001b[1;33m.\u001b[0m\u001b[0mget_loc\u001b[0m\u001b[1;33m(\u001b[0m\u001b[0mcasted_key\u001b[0m\u001b[1;33m)\u001b[0m\u001b[1;33m\u001b[0m\u001b[1;33m\u001b[0m\u001b[0m\n\u001b[0m\u001b[0;32m   3081\u001b[0m             \u001b[1;32mexcept\u001b[0m \u001b[0mKeyError\u001b[0m \u001b[1;32mas\u001b[0m \u001b[0merr\u001b[0m\u001b[1;33m:\u001b[0m\u001b[1;33m\u001b[0m\u001b[1;33m\u001b[0m\u001b[0m\n",
      "\u001b[1;32mpandas\\_libs\\index.pyx\u001b[0m in \u001b[0;36mpandas._libs.index.IndexEngine.get_loc\u001b[1;34m()\u001b[0m\n",
      "\u001b[1;32mpandas\\_libs\\index.pyx\u001b[0m in \u001b[0;36mpandas._libs.index.IndexEngine.get_loc\u001b[1;34m()\u001b[0m\n",
      "\u001b[1;32mpandas\\_libs\\hashtable_class_helper.pxi\u001b[0m in \u001b[0;36mpandas._libs.hashtable.PyObjectHashTable.get_item\u001b[1;34m()\u001b[0m\n",
      "\u001b[1;32mpandas\\_libs\\hashtable_class_helper.pxi\u001b[0m in \u001b[0;36mpandas._libs.hashtable.PyObjectHashTable.get_item\u001b[1;34m()\u001b[0m\n",
      "\u001b[1;31mKeyError\u001b[0m: 'Subject Code'",
      "\nThe above exception was the direct cause of the following exception:\n",
      "\u001b[1;31mKeyError\u001b[0m                                  Traceback (most recent call last)",
      "\u001b[1;32m<ipython-input-9-5fa272b0f380>\u001b[0m in \u001b[0;36m<module>\u001b[1;34m\u001b[0m\n\u001b[0;32m     18\u001b[0m \u001b[1;33m\u001b[0m\u001b[0m\n\u001b[0;32m     19\u001b[0m \u001b[1;31m# CSVファイルのデータに科目名とカテゴリ名を追加する\u001b[0m\u001b[1;33m\u001b[0m\u001b[1;33m\u001b[0m\u001b[1;33m\u001b[0m\u001b[0m\n\u001b[1;32m---> 20\u001b[1;33m \u001b[0mdatas\u001b[0m\u001b[1;33m[\u001b[0m\u001b[1;34m'Category'\u001b[0m\u001b[1;33m]\u001b[0m\u001b[1;33m,\u001b[0m \u001b[0mdatas\u001b[0m\u001b[1;33m[\u001b[0m\u001b[1;34m'Subject'\u001b[0m\u001b[1;33m]\u001b[0m \u001b[1;33m=\u001b[0m \u001b[0mzip\u001b[0m\u001b[1;33m(\u001b[0m\u001b[1;33m*\u001b[0m\u001b[0mdatas\u001b[0m\u001b[1;33m[\u001b[0m\u001b[1;34m'Subject Code'\u001b[0m\u001b[1;33m]\u001b[0m\u001b[1;33m.\u001b[0m\u001b[0mmap\u001b[0m\u001b[1;33m(\u001b[0m\u001b[0mget_subject_category\u001b[0m\u001b[1;33m)\u001b[0m\u001b[1;33m)\u001b[0m\u001b[1;33m\u001b[0m\u001b[1;33m\u001b[0m\u001b[0m\n\u001b[0m\u001b[0;32m     21\u001b[0m \u001b[1;33m\u001b[0m\u001b[0m\n\u001b[0;32m     22\u001b[0m \u001b[1;31m# 結果を新しいCSVファイルに書き込む\u001b[0m\u001b[1;33m\u001b[0m\u001b[1;33m\u001b[0m\u001b[1;33m\u001b[0m\u001b[0m\n",
      "\u001b[1;32mc:\\Users\\grand\\anaconda3\\lib\\site-packages\\pandas\\core\\frame.py\u001b[0m in \u001b[0;36m__getitem__\u001b[1;34m(self, key)\u001b[0m\n\u001b[0;32m   3022\u001b[0m             \u001b[1;32mif\u001b[0m \u001b[0mself\u001b[0m\u001b[1;33m.\u001b[0m\u001b[0mcolumns\u001b[0m\u001b[1;33m.\u001b[0m\u001b[0mnlevels\u001b[0m \u001b[1;33m>\u001b[0m \u001b[1;36m1\u001b[0m\u001b[1;33m:\u001b[0m\u001b[1;33m\u001b[0m\u001b[1;33m\u001b[0m\u001b[0m\n\u001b[0;32m   3023\u001b[0m                 \u001b[1;32mreturn\u001b[0m \u001b[0mself\u001b[0m\u001b[1;33m.\u001b[0m\u001b[0m_getitem_multilevel\u001b[0m\u001b[1;33m(\u001b[0m\u001b[0mkey\u001b[0m\u001b[1;33m)\u001b[0m\u001b[1;33m\u001b[0m\u001b[1;33m\u001b[0m\u001b[0m\n\u001b[1;32m-> 3024\u001b[1;33m             \u001b[0mindexer\u001b[0m \u001b[1;33m=\u001b[0m \u001b[0mself\u001b[0m\u001b[1;33m.\u001b[0m\u001b[0mcolumns\u001b[0m\u001b[1;33m.\u001b[0m\u001b[0mget_loc\u001b[0m\u001b[1;33m(\u001b[0m\u001b[0mkey\u001b[0m\u001b[1;33m)\u001b[0m\u001b[1;33m\u001b[0m\u001b[1;33m\u001b[0m\u001b[0m\n\u001b[0m\u001b[0;32m   3025\u001b[0m             \u001b[1;32mif\u001b[0m \u001b[0mis_integer\u001b[0m\u001b[1;33m(\u001b[0m\u001b[0mindexer\u001b[0m\u001b[1;33m)\u001b[0m\u001b[1;33m:\u001b[0m\u001b[1;33m\u001b[0m\u001b[1;33m\u001b[0m\u001b[0m\n\u001b[0;32m   3026\u001b[0m                 \u001b[0mindexer\u001b[0m \u001b[1;33m=\u001b[0m \u001b[1;33m[\u001b[0m\u001b[0mindexer\u001b[0m\u001b[1;33m]\u001b[0m\u001b[1;33m\u001b[0m\u001b[1;33m\u001b[0m\u001b[0m\n",
      "\u001b[1;32mc:\\Users\\grand\\anaconda3\\lib\\site-packages\\pandas\\core\\indexes\\base.py\u001b[0m in \u001b[0;36mget_loc\u001b[1;34m(self, key, method, tolerance)\u001b[0m\n\u001b[0;32m   3080\u001b[0m                 \u001b[1;32mreturn\u001b[0m \u001b[0mself\u001b[0m\u001b[1;33m.\u001b[0m\u001b[0m_engine\u001b[0m\u001b[1;33m.\u001b[0m\u001b[0mget_loc\u001b[0m\u001b[1;33m(\u001b[0m\u001b[0mcasted_key\u001b[0m\u001b[1;33m)\u001b[0m\u001b[1;33m\u001b[0m\u001b[1;33m\u001b[0m\u001b[0m\n\u001b[0;32m   3081\u001b[0m             \u001b[1;32mexcept\u001b[0m \u001b[0mKeyError\u001b[0m \u001b[1;32mas\u001b[0m \u001b[0merr\u001b[0m\u001b[1;33m:\u001b[0m\u001b[1;33m\u001b[0m\u001b[1;33m\u001b[0m\u001b[0m\n\u001b[1;32m-> 3082\u001b[1;33m                 \u001b[1;32mraise\u001b[0m \u001b[0mKeyError\u001b[0m\u001b[1;33m(\u001b[0m\u001b[0mkey\u001b[0m\u001b[1;33m)\u001b[0m \u001b[1;32mfrom\u001b[0m \u001b[0merr\u001b[0m\u001b[1;33m\u001b[0m\u001b[1;33m\u001b[0m\u001b[0m\n\u001b[0m\u001b[0;32m   3083\u001b[0m \u001b[1;33m\u001b[0m\u001b[0m\n\u001b[0;32m   3084\u001b[0m         \u001b[1;32mif\u001b[0m \u001b[0mtolerance\u001b[0m \u001b[1;32mis\u001b[0m \u001b[1;32mnot\u001b[0m \u001b[1;32mNone\u001b[0m\u001b[1;33m:\u001b[0m\u001b[1;33m\u001b[0m\u001b[1;33m\u001b[0m\u001b[0m\n",
      "\u001b[1;31mKeyError\u001b[0m: 'Subject Code'"
     ]
    }
   ],
   "source": [
    "import json\n",
    "import pandas as pd\n",
    "\n",
    "# codes.jsonファイルから科目表を読み込む\n",
    "with open('codes.json', 'r') as f:\n",
    "    codes = json.load(f)\n",
    "\n",
    "# 科目コードとカテゴリを参照して、科目名とカテゴリ名を追加する関数\n",
    "def get_subject_category(code):\n",
    "    category = ''\n",
    "    subject = ''\n",
    "    for cat, subjects in codes.items():\n",
    "        if code in subjects:\n",
    "            category = cat\n",
    "            subject = subjects[code]['name']\n",
    "            break\n",
    "    return category, subject\n",
    "\n",
    "# CSVファイルのデータに科目名とカテゴリ名を追加する\n",
    "datas['Category'], datas['Subject'] = zip(*datas['Subject Code'].map(get_subject_category))\n",
    "\n",
    "# 結果を新しいCSVファイルに書き込む\n",
    "datas.to_csv('financial_records_with_categories.csv', index=False)\n",
    "\n",
    "print(\"CSVファイルにデータが書き込まれました。\")\n"
   ]
  },
  {
   "cell_type": "markdown",
   "metadata": {},
   "source": []
  }
 ],
 "metadata": {
  "kernelspec": {
   "display_name": "base",
   "language": "python",
   "name": "python3"
  },
  "language_info": {
   "codemirror_mode": {
    "name": "ipython",
    "version": 3
   },
   "file_extension": ".py",
   "mimetype": "text/x-python",
   "name": "python",
   "nbconvert_exporter": "python",
   "pygments_lexer": "ipython3",
   "version": "3.8.8"
  }
 },
 "nbformat": 4,
 "nbformat_minor": 2
}
